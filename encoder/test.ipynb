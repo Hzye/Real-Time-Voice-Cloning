{
 "cells": [
  {
   "cell_type": "code",
   "execution_count": 79,
   "metadata": {},
   "outputs": [],
   "source": [
    "import numpy as np\n",
    "import torch\n",
    "import torch.nn as nn\n",
    "import matplotlib.pyplot as plt\n",
    "from sklearn.metrics import roc_curve\n",
    "from scipy.optimize import brentq\n",
    "from scipy.interpolate import interp1d"
   ]
  },
  {
   "cell_type": "code",
   "execution_count": 6,
   "metadata": {},
   "outputs": [],
   "source": [
    "speakers_per_batch, utterances_per_speaker = 5, 10\n",
    "embeds = torch.rand(size=(speakers_per_batch, utterances_per_speaker, 10))"
   ]
  },
  {
   "cell_type": "code",
   "execution_count": 40,
   "metadata": {},
   "outputs": [],
   "source": [
    "def similarity_matrix(embeds):\n",
    "    \"\"\"\n",
    "    Computes the similarity matrix according the section 2.1 of GE2E.\n",
    "\n",
    "    :param embeds: the embeddings as a tensor of shape (speakers_per_batch, \n",
    "    utterances_per_speaker, embedding_size)\n",
    "    :return: the similarity matrix as a tensor of shape (speakers_per_batch,\n",
    "    utterances_per_speaker, speakers_per_batch)\n",
    "    \"\"\"\n",
    "    similarity_weight = nn.Parameter(torch.tensor([10.]))\n",
    "    similarity_bias = nn.Parameter(torch.tensor([-5.]))\n",
    "\n",
    "    speakers_per_batch, utterances_per_speaker = embeds.shape[:2]\n",
    "    \n",
    "    # Inclusive centroids (1 per speaker). Cloning is needed for reverse differentiation\n",
    "    centroids_incl = torch.mean(embeds, dim=1, keepdim=True)\n",
    "    centroids_incl = centroids_incl.clone() / (torch.norm(centroids_incl, dim=2, keepdim=True) + 1e-5)\n",
    "\n",
    "    # Exclusive centroids (1 per utterance)\n",
    "    centroids_excl = (torch.sum(embeds, dim=1, keepdim=True) - embeds)\n",
    "    centroids_excl /= (utterances_per_speaker - 1)\n",
    "    centroids_excl = centroids_excl.clone() / (torch.norm(centroids_excl, dim=2, keepdim=True) + 1e-5)\n",
    "\n",
    "    # Similarity matrix. The cosine similarity of already 2-normed vectors is simply the dot\n",
    "    # product of these vectors (which is just an element-wise multiplication reduced by a sum).\n",
    "    # We vectorize the computation for efficiency.\n",
    "    sim_matrix = torch.zeros(speakers_per_batch, utterances_per_speaker,\n",
    "                                speakers_per_batch)\n",
    "    mask_matrix = 1 - np.eye(speakers_per_batch, dtype=np.int)\n",
    "    for j in range(speakers_per_batch):\n",
    "        # each row in mask_matrix represents 1 speaker in batch\n",
    "        mask = np.where(mask_matrix[j])[0] # indexes of 1s in mask_matrix\n",
    "        # compute cosine sim via dot product\n",
    "        sim_matrix[mask, :, j] = (embeds[mask] * centroids_incl[j]).sum(dim=2)\n",
    "        sim_matrix[j, :, j] = (embeds[j] * centroids_excl[j]).sum(dim=1)\n",
    "       \n",
    "    sim_matrix = sim_matrix * similarity_weight + similarity_bias\n",
    "    return sim_matrix"
   ]
  },
  {
   "cell_type": "code",
   "execution_count": 50,
   "metadata": {},
   "outputs": [
    {
     "name": "stderr",
     "output_type": "stream",
     "text": [
      "C:\\Users\\henry\\AppData\\Local\\Temp/ipykernel_10304/2876056586.py:29: DeprecationWarning: `np.int` is a deprecated alias for the builtin `int`. To silence this warning, use `int` by itself. Doing this will not modify any behavior and is safe. When replacing `np.int`, you may wish to use e.g. `np.int64` or `np.int32` to specify the precision. If you wish to review your current use, check the release note link for additional information.\n",
      "Deprecated in NumPy 1.20; for more details and guidance: https://numpy.org/devdocs/release/1.20.0-notes.html#deprecations\n",
      "  mask_matrix = 1 - np.eye(speakers_per_batch, dtype=np.int)\n"
     ]
    }
   ],
   "source": [
    "sim_matrix = similarity_matrix(embeds)\n",
    "sim_matrix = sim_matrix.reshape((speakers_per_batch * utterances_per_speaker, \n",
    "                                    speakers_per_batch))"
   ]
  },
  {
   "cell_type": "code",
   "execution_count": 52,
   "metadata": {},
   "outputs": [
    {
     "data": {
      "text/plain": [
       "torch.Size([50, 5])"
      ]
     },
     "execution_count": 52,
     "metadata": {},
     "output_type": "execute_result"
    }
   ],
   "source": [
    "sim_matrix.shape"
   ]
  },
  {
   "cell_type": "code",
   "execution_count": 60,
   "metadata": {},
   "outputs": [],
   "source": [
    "ground_truth = np.repeat(np.arange(speakers_per_batch), utterances_per_speaker)"
   ]
  },
  {
   "cell_type": "code",
   "execution_count": 63,
   "metadata": {},
   "outputs": [
    {
     "data": {
      "text/plain": [
       "torch.Size([50])"
      ]
     },
     "execution_count": 63,
     "metadata": {},
     "output_type": "execute_result"
    }
   ],
   "source": [
    "target = torch.from_numpy(ground_truth).long()\n",
    "target.shape"
   ]
  },
  {
   "cell_type": "code",
   "execution_count": 64,
   "metadata": {},
   "outputs": [
    {
     "data": {
      "text/plain": [
       "torch.Size([50, 5])"
      ]
     },
     "execution_count": 64,
     "metadata": {},
     "output_type": "execute_result"
    }
   ],
   "source": [
    "sim_matrix.shape"
   ]
  },
  {
   "cell_type": "code",
   "execution_count": 69,
   "metadata": {},
   "outputs": [
    {
     "data": {
      "text/plain": [
       "tensor(1.8022, grad_fn=<NllLossBackward0>)"
      ]
     },
     "execution_count": 69,
     "metadata": {},
     "output_type": "execute_result"
    }
   ],
   "source": [
    "loss_fn = nn.CrossEntropyLoss()\n",
    "loss = loss_fn(sim_matrix, target)\n",
    "loss"
   ]
  },
  {
   "cell_type": "code",
   "execution_count": 70,
   "metadata": {},
   "outputs": [],
   "source": [
    "inv_argmax = lambda i: np.eye(1, speakers_per_batch, i, dtype=np.int)[0]"
   ]
  },
  {
   "cell_type": "code",
   "execution_count": 73,
   "metadata": {},
   "outputs": [
    {
     "name": "stderr",
     "output_type": "stream",
     "text": [
      "C:\\Users\\henry\\AppData\\Local\\Temp/ipykernel_10304/1139302140.py:1: DeprecationWarning: `np.int` is a deprecated alias for the builtin `int`. To silence this warning, use `int` by itself. Doing this will not modify any behavior and is safe. When replacing `np.int`, you may wish to use e.g. `np.int64` or `np.int32` to specify the precision. If you wish to review your current use, check the release note link for additional information.\n",
      "Deprecated in NumPy 1.20; for more details and guidance: https://numpy.org/devdocs/release/1.20.0-notes.html#deprecations\n",
      "  inv_argmax = lambda i: np.eye(1, speakers_per_batch, i, dtype=np.int)[0]\n"
     ]
    },
    {
     "data": {
      "text/plain": [
       "(50, 5)"
      ]
     },
     "execution_count": 73,
     "metadata": {},
     "output_type": "execute_result"
    }
   ],
   "source": [
    "labels = np.array([inv_argmax(i) for i in ground_truth])\n",
    "labels.shape"
   ]
  },
  {
   "cell_type": "code",
   "execution_count": 74,
   "metadata": {},
   "outputs": [],
   "source": [
    "preds = sim_matrix.detach().cpu().numpy()"
   ]
  },
  {
   "cell_type": "code",
   "execution_count": 76,
   "metadata": {},
   "outputs": [],
   "source": [
    "fpr, tpr, thresholds = roc_curve(labels.flatten(), preds.flatten())"
   ]
  },
  {
   "cell_type": "code",
   "execution_count": 80,
   "metadata": {},
   "outputs": [],
   "source": [
    "eer = brentq(lambda x: 1. - x - interp1d(fpr, tpr)(x), 0., 1.)"
   ]
  },
  {
   "cell_type": "code",
   "execution_count": 81,
   "metadata": {},
   "outputs": [
    {
     "data": {
      "text/plain": [
       "0.52"
      ]
     },
     "execution_count": 81,
     "metadata": {},
     "output_type": "execute_result"
    }
   ],
   "source": [
    "eer"
   ]
  },
  {
   "cell_type": "code",
   "execution_count": null,
   "metadata": {},
   "outputs": [],
   "source": []
  }
 ],
 "metadata": {
  "interpreter": {
   "hash": "4236b1bd8af5c88b200f8ae259f28c355fd90bec7f49eb3a4c44b52c2fc9f9b2"
  },
  "kernelspec": {
   "display_name": "Python 3.9.4 64-bit",
   "language": "python",
   "name": "python3"
  },
  "language_info": {
   "codemirror_mode": {
    "name": "ipython",
    "version": 3
   },
   "file_extension": ".py",
   "mimetype": "text/x-python",
   "name": "python",
   "nbconvert_exporter": "python",
   "pygments_lexer": "ipython3",
   "version": "3.9.4"
  },
  "orig_nbformat": 4
 },
 "nbformat": 4,
 "nbformat_minor": 2
}
